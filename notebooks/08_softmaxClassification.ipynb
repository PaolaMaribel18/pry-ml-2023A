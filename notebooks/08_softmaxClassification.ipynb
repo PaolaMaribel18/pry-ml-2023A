{
  "nbformat": 4,
  "nbformat_minor": 0,
  "metadata": {
    "colab": {
      "provenance": [],
      "gpuType": "T4",
      "authorship_tag": "ABX9TyO7TB7QSYYfcuajnOs0Dq+4",
      "include_colab_link": true
    },
    "kernelspec": {
      "name": "python3",
      "display_name": "Python 3"
    },
    "language_info": {
      "name": "python"
    },
    "accelerator": "GPU"
  },
  "cells": [
    {
      "cell_type": "markdown",
      "metadata": {
        "id": "view-in-github",
        "colab_type": "text"
      },
      "source": [
        "<a href=\"https://colab.research.google.com/github/PaolaMaribel18/pry-ml-2023A/blob/main/notebooks/08_softmaxClassification.ipynb\" target=\"_parent\"><img src=\"https://colab.research.google.com/assets/colab-badge.svg\" alt=\"Open In Colab\"/></a>"
      ]
    },
    {
      "cell_type": "markdown",
      "source": [
        "#8 Softmax Algorithm for Classification"
      ],
      "metadata": {
        "id": "0g4Wa9GWMnlL"
      }
    },
    {
      "cell_type": "markdown",
      "source": [
        "The Softmax algorithm is a mathematical function that converts a vector of real numbers into a probability distribution. It is commonly used in machine learning and deep learning models to assign probabilities to multiple classes or categories.\n",
        "\n",
        "The Softmax function takes an input vector of real numbers and transforms it into a probability distribution where each element represents the probability of the corresponding class. The output values are non-negative and sum up to 1, making it suitable for multi-class classification problems.\n",
        "\n",
        "Mathematically, the Softmax function is defined as follows:\n",
        "![image.png](data:image/png;base64,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)\n",
        "<br>\n",
        "where *Xi*\n",
        " is the\n",
        "-th element of the input vector\n",
        ",\n",
        " *x, exp* denotes the exponential function, and the\n",
        " is taken over all elements of the vector.\n"
      ],
      "metadata": {
        "id": "Xy6GNnmJMp-C"
      }
    },
    {
      "cell_type": "markdown",
      "source": [
        "##Exercise: Handwritten Digit Classification\n",
        "\n",
        "In this exercise, you'll build a neural network model using **PyTorch to classify** handwritten digits from the Fashion-MNIST dataset.\n",
        "\n",
        "Fashion-MNIST: Similar to MNIST, the Fashion-MNIST dataset consists of 28x28 grayscale images. However, instead of handwritten digits, it contains images of fashion items like clothing, shoes, and accessories. It serves as an alternative benchmark for image classification tasks."
      ],
      "metadata": {
        "id": "Tf9hZeJoNRUN"
      }
    },
    {
      "cell_type": "markdown",
      "source": [
        "###Step 1: Import the necessary libraries and load the dataset.\n",
        "\n"
      ],
      "metadata": {
        "id": "lk3dgbciNfZM"
      }
    },
    {
      "cell_type": "code",
      "execution_count": 3,
      "metadata": {
        "id": "_5IEk8k8LHEw"
      },
      "outputs": [],
      "source": [
        "import torch\n",
        "import torch.nn as nn\n",
        "import torch.optim as optim\n",
        "from torchvision import datasets, transforms"
      ]
    },
    {
      "cell_type": "markdown",
      "source": [
        "Check if you can use your GPU\n",
        "\n"
      ],
      "metadata": {
        "id": "-uW5UOikTS23"
      }
    },
    {
      "cell_type": "code",
      "source": [
        "device = torch.device(\"cuda:0\" if torch.cuda.is_available() else \"cpu\")\n"
      ],
      "metadata": {
        "id": "pdW1-4luTTqt"
      },
      "execution_count": 4,
      "outputs": []
    },
    {
      "cell_type": "markdown",
      "source": [
        "Let's inspect and see if our database works\n",
        "\n"
      ],
      "metadata": {
        "id": "SgC3lSyJTXXM"
      }
    },
    {
      "cell_type": "code",
      "source": [
        "import matplotlib.pyplot as plt\n",
        "\n",
        "#Define data transformations\n",
        "transform = transforms.Compose([\n",
        "    transforms.ToTensor(),\n",
        "])\n",
        "\n",
        "# Load the FashionMNIST dataset\n",
        "train_dataset = datasets.FashionMNIST(root='../data', train=True, transform=transform, download=True)\n",
        "# Define the class labels\n",
        "class_labels = ['T-shirt/top', 'Trouser', 'Pullover', 'Dress', 'Coat',\n",
        "                'Sandal', 'Shirt', 'Sneaker', 'Bag', 'Ankle boot']\n",
        "\n",
        "# Visualize the first 4 images and labels\n",
        "for i in range(4):\n",
        "    image, label = train_dataset[i]\n",
        "    plt.imshow(image.squeeze(), cmap='gray')\n",
        "    plt.title(class_labels[label])\n",
        "    plt.axis('off')\n",
        "    plt.show()"
      ],
      "metadata": {
        "colab": {
          "base_uri": "https://localhost:8080/",
          "height": 1000
        },
        "id": "Z2Gx8JRyTawA",
        "outputId": "1566d712-367a-426b-e28e-6d6533974bed"
      },
      "execution_count": 5,
      "outputs": [
        {
          "output_type": "stream",
          "name": "stdout",
          "text": [
            "Downloading http://fashion-mnist.s3-website.eu-central-1.amazonaws.com/train-images-idx3-ubyte.gz\n",
            "Downloading http://fashion-mnist.s3-website.eu-central-1.amazonaws.com/train-images-idx3-ubyte.gz to ../data/FashionMNIST/raw/train-images-idx3-ubyte.gz\n"
          ]
        },
        {
          "output_type": "stream",
          "name": "stderr",
          "text": [
            "100%|██████████| 26421880/26421880 [00:01<00:00, 16035436.24it/s]\n"
          ]
        },
        {
          "output_type": "stream",
          "name": "stdout",
          "text": [
            "Extracting ../data/FashionMNIST/raw/train-images-idx3-ubyte.gz to ../data/FashionMNIST/raw\n",
            "\n",
            "Downloading http://fashion-mnist.s3-website.eu-central-1.amazonaws.com/train-labels-idx1-ubyte.gz\n",
            "Downloading http://fashion-mnist.s3-website.eu-central-1.amazonaws.com/train-labels-idx1-ubyte.gz to ../data/FashionMNIST/raw/train-labels-idx1-ubyte.gz\n"
          ]
        },
        {
          "output_type": "stream",
          "name": "stderr",
          "text": [
            "100%|██████████| 29515/29515 [00:00<00:00, 274357.15it/s]\n"
          ]
        },
        {
          "output_type": "stream",
          "name": "stdout",
          "text": [
            "Extracting ../data/FashionMNIST/raw/train-labels-idx1-ubyte.gz to ../data/FashionMNIST/raw\n",
            "\n",
            "Downloading http://fashion-mnist.s3-website.eu-central-1.amazonaws.com/t10k-images-idx3-ubyte.gz\n",
            "Downloading http://fashion-mnist.s3-website.eu-central-1.amazonaws.com/t10k-images-idx3-ubyte.gz to ../data/FashionMNIST/raw/t10k-images-idx3-ubyte.gz\n"
          ]
        },
        {
          "output_type": "stream",
          "name": "stderr",
          "text": [
            "100%|██████████| 4422102/4422102 [00:00<00:00, 5017878.67it/s]\n"
          ]
        },
        {
          "output_type": "stream",
          "name": "stdout",
          "text": [
            "Extracting ../data/FashionMNIST/raw/t10k-images-idx3-ubyte.gz to ../data/FashionMNIST/raw\n",
            "\n",
            "Downloading http://fashion-mnist.s3-website.eu-central-1.amazonaws.com/t10k-labels-idx1-ubyte.gz\n",
            "Downloading http://fashion-mnist.s3-website.eu-central-1.amazonaws.com/t10k-labels-idx1-ubyte.gz to ../data/FashionMNIST/raw/t10k-labels-idx1-ubyte.gz\n"
          ]
        },
        {
          "output_type": "stream",
          "name": "stderr",
          "text": [
            "100%|██████████| 5148/5148 [00:00<00:00, 5034338.31it/s]\n"
          ]
        },
        {
          "output_type": "stream",
          "name": "stdout",
          "text": [
            "Extracting ../data/FashionMNIST/raw/t10k-labels-idx1-ubyte.gz to ../data/FashionMNIST/raw\n",
            "\n"
          ]
        },
        {
          "output_type": "display_data",
          "data": {
            "text/plain": [
              "<Figure size 640x480 with 1 Axes>"
            ],
            "image/png": "[encoded data removed]"
          },
          "metadata": {}
        },
        {
          "output_type": "display_data",
          "data": {
            "text/plain": [
              "<Figure size 640x480 with 1 Axes>"
            ],
            "image/png": "[encoded data removed]"
          },
          "metadata": {}
        },
        {
          "output_type": "display_data",
          "data": {
            "text/plain": [
              "<Figure size 640x480 with 1 Axes>"
            ],
            "image/png": "[encoded data removed]"
          },
          "metadata": {}
        },
        {
          "output_type": "display_data",
          "data": {
            "text/plain": [
              "<Figure size 640x480 with 1 Axes>"
            ],
            "image/png": "[encoded data removed]"
          },
          "metadata": {}
        }
      ]
    },
    {
      "cell_type": "markdown",
      "source": [
        "Now we create our loaders->pytorch\n",
        "\n"
      ],
      "metadata": {
        "id": "0miiP4dgTwMw"
      }
    },
    {
      "cell_type": "code",
      "source": [
        "# Set random seed for reproducibility\n",
        "torch.manual_seed(42)\n",
        "\n",
        "# Define data transformations\n",
        "transform = transforms.Compose([\n",
        "    transforms.ToTensor(),\n",
        "    transforms.Normalize((0.2860,), (0.3530,))\n",
        "])\n",
        "\n",
        "test_dataset = datasets.FashionMNIST(\n",
        "    root='./data',\n",
        "    train=False,\n",
        "    transform=transform,\n",
        "    download=True\n",
        ")\n",
        "\n",
        "# Define data loaders\n",
        "train_loader = torch.utils.data.DataLoader(\n",
        "    dataset=train_dataset,\n",
        "    batch_size=64,\n",
        "    shuffle=True\n",
        ")\n",
        "\n",
        "test_loader = torch.utils.data.DataLoader(\n",
        "    dataset=test_dataset,\n",
        "    batch_size=64,\n",
        "    shuffle=False\n",
        ")"
      ],
      "metadata": {
        "colab": {
          "base_uri": "https://localhost:8080/"
        },
        "id": "Yc3eSaxUTtJj",
        "outputId": "929d194a-dc22-4c97-c7e4-e6a3994f8c89"
      },
      "execution_count": 6,
      "outputs": [
        {
          "output_type": "stream",
          "name": "stdout",
          "text": [
            "Downloading http://fashion-mnist.s3-website.eu-central-1.amazonaws.com/train-images-idx3-ubyte.gz\n",
            "Downloading http://fashion-mnist.s3-website.eu-central-1.amazonaws.com/train-images-idx3-ubyte.gz to ./data/FashionMNIST/raw/train-images-idx3-ubyte.gz\n"
          ]
        },
        {
          "output_type": "stream",
          "name": "stderr",
          "text": [
            "100%|██████████| 26421880/26421880 [00:01<00:00, 15823146.93it/s]\n"
          ]
        },
        {
          "output_type": "stream",
          "name": "stdout",
          "text": [
            "Extracting ./data/FashionMNIST/raw/train-images-idx3-ubyte.gz to ./data/FashionMNIST/raw\n",
            "\n",
            "Downloading http://fashion-mnist.s3-website.eu-central-1.amazonaws.com/train-labels-idx1-ubyte.gz\n",
            "Downloading http://fashion-mnist.s3-website.eu-central-1.amazonaws.com/train-labels-idx1-ubyte.gz to ./data/FashionMNIST/raw/train-labels-idx1-ubyte.gz\n"
          ]
        },
        {
          "output_type": "stream",
          "name": "stderr",
          "text": [
            "100%|██████████| 29515/29515 [00:00<00:00, 270922.12it/s]\n"
          ]
        },
        {
          "output_type": "stream",
          "name": "stdout",
          "text": [
            "Extracting ./data/FashionMNIST/raw/train-labels-idx1-ubyte.gz to ./data/FashionMNIST/raw\n",
            "\n",
            "Downloading http://fashion-mnist.s3-website.eu-central-1.amazonaws.com/t10k-images-idx3-ubyte.gz\n",
            "Downloading http://fashion-mnist.s3-website.eu-central-1.amazonaws.com/t10k-images-idx3-ubyte.gz to ./data/FashionMNIST/raw/t10k-images-idx3-ubyte.gz\n"
          ]
        },
        {
          "output_type": "stream",
          "name": "stderr",
          "text": [
            "100%|██████████| 4422102/4422102 [00:00<00:00, 5109043.08it/s]\n"
          ]
        },
        {
          "output_type": "stream",
          "name": "stdout",
          "text": [
            "Extracting ./data/FashionMNIST/raw/t10k-images-idx3-ubyte.gz to ./data/FashionMNIST/raw\n",
            "\n",
            "Downloading http://fashion-mnist.s3-website.eu-central-1.amazonaws.com/t10k-labels-idx1-ubyte.gz\n",
            "Downloading http://fashion-mnist.s3-website.eu-central-1.amazonaws.com/t10k-labels-idx1-ubyte.gz to ./data/FashionMNIST/raw/t10k-labels-idx1-ubyte.gz\n"
          ]
        },
        {
          "output_type": "stream",
          "name": "stderr",
          "text": [
            "100%|██████████| 5148/5148 [00:00<00:00, 6309841.32it/s]"
          ]
        },
        {
          "output_type": "stream",
          "name": "stdout",
          "text": [
            "Extracting ./data/FashionMNIST/raw/t10k-labels-idx1-ubyte.gz to ./data/FashionMNIST/raw\n",
            "\n"
          ]
        },
        {
          "output_type": "stream",
          "name": "stderr",
          "text": [
            "\n"
          ]
        }
      ]
    },
    {
      "cell_type": "markdown",
      "source": [
        "###Step 2: Define the neural network model.\n",
        "\n"
      ],
      "metadata": {
        "id": "jZtGVWjfT8LF"
      }
    },
    {
      "cell_type": "code",
      "source": [
        "class Net(nn.Module):\n",
        "    def __init__(self):\n",
        "        super(Net, self).__init__()\n",
        "        self.fc = nn.Linear(784, 10)\n",
        "\n",
        "    def forward(self, x):\n",
        "        x = x.view(-1, 784)\n",
        "        x = self.fc(x)\n",
        "        return x\n",
        "\n",
        "model = Net()"
      ],
      "metadata": {
        "id": "eTM0lO6CT93B"
      },
      "execution_count": 7,
      "outputs": []
    },
    {
      "cell_type": "markdown",
      "source": [
        "###Step 3: Define the loss function, optimizer, and training loop."
      ],
      "metadata": {
        "id": "_Yb4vRv7UDKe"
      }
    },
    {
      "cell_type": "markdown",
      "source": [
        " The Softmax function is implicitly applied during the forward pass as part of the CrossEntropyLoss. The model is then trained using stochastic gradient descent (SGD) optimizer and evaluated on a separate test dataset."
      ],
      "metadata": {
        "id": "tA-UES7aUEmf"
      }
    },
    {
      "cell_type": "code",
      "source": [
        "criterion = nn.CrossEntropyLoss() #CrossEntropyLoss usa Softmax\n",
        "optimizer = optim.SGD(model.parameters(), lr=0.01, momentum=0.9)\n",
        "\n",
        "def train(model, train_loader, optimizer, criterion, epochs):\n",
        "    model.train()\n",
        "    for epoch in range(epochs):\n",
        "        running_loss = 0.0\n",
        "        for i, (images, labels) in enumerate(train_loader):\n",
        "            optimizer.zero_grad()\n",
        "            outputs = model(images)\n",
        "            loss = criterion(outputs, labels)\n",
        "            loss.backward()\n",
        "            optimizer.step()\n",
        "            running_loss += loss.item()\n",
        "\n",
        "            if (i+1) % 100 == 0:\n",
        "                print('Epoch [{}/{}], Step [{}/{}], Loss: {:.4f}'.format(\n",
        "                    epoch+1, epochs, i+1, len(train_loader), running_loss / 100))\n",
        "                running_loss = 0.0\n",
        "\n",
        "train(model, train_loader, optimizer, criterion, epochs=5)"
      ],
      "metadata": {
        "colab": {
          "base_uri": "https://localhost:8080/"
        },
        "id": "UOa4Qr9TUHj7",
        "outputId": "717ca2ba-08a1-41b1-bdd3-158d4fef17a7"
      },
      "execution_count": 8,
      "outputs": [
        {
          "output_type": "stream",
          "name": "stdout",
          "text": [
            "Epoch [1/5], Step [100/938], Loss: 1.0280\n",
            "Epoch [1/5], Step [200/938], Loss: 0.6620\n",
            "Epoch [1/5], Step [300/938], Loss: 0.6114\n",
            "Epoch [1/5], Step [400/938], Loss: 0.5748\n",
            "Epoch [1/5], Step [500/938], Loss: 0.5699\n",
            "Epoch [1/5], Step [600/938], Loss: 0.5287\n",
            "Epoch [1/5], Step [700/938], Loss: 0.5375\n",
            "Epoch [1/5], Step [800/938], Loss: 0.5358\n",
            "Epoch [1/5], Step [900/938], Loss: 0.5082\n",
            "Epoch [2/5], Step [100/938], Loss: 0.4992\n",
            "Epoch [2/5], Step [200/938], Loss: 0.4686\n",
            "Epoch [2/5], Step [300/938], Loss: 0.4945\n",
            "Epoch [2/5], Step [400/938], Loss: 0.4862\n",
            "Epoch [2/5], Step [500/938], Loss: 0.4658\n",
            "Epoch [2/5], Step [600/938], Loss: 0.4837\n",
            "Epoch [2/5], Step [700/938], Loss: 0.4694\n",
            "Epoch [2/5], Step [800/938], Loss: 0.4726\n",
            "Epoch [2/5], Step [900/938], Loss: 0.4771\n",
            "Epoch [3/5], Step [100/938], Loss: 0.4668\n",
            "Epoch [3/5], Step [200/938], Loss: 0.4761\n",
            "Epoch [3/5], Step [300/938], Loss: 0.4479\n",
            "Epoch [3/5], Step [400/938], Loss: 0.4684\n",
            "Epoch [3/5], Step [500/938], Loss: 0.4464\n",
            "Epoch [3/5], Step [600/938], Loss: 0.4500\n",
            "Epoch [3/5], Step [700/938], Loss: 0.4469\n",
            "Epoch [3/5], Step [800/938], Loss: 0.4379\n",
            "Epoch [3/5], Step [900/938], Loss: 0.4587\n",
            "Epoch [4/5], Step [100/938], Loss: 0.4365\n",
            "Epoch [4/5], Step [200/938], Loss: 0.4411\n",
            "Epoch [4/5], Step [300/938], Loss: 0.4283\n",
            "Epoch [4/5], Step [400/938], Loss: 0.4536\n",
            "Epoch [4/5], Step [500/938], Loss: 0.4361\n",
            "Epoch [4/5], Step [600/938], Loss: 0.4418\n",
            "Epoch [4/5], Step [700/938], Loss: 0.4447\n",
            "Epoch [4/5], Step [800/938], Loss: 0.4551\n",
            "Epoch [4/5], Step [900/938], Loss: 0.4231\n",
            "Epoch [5/5], Step [100/938], Loss: 0.4342\n",
            "Epoch [5/5], Step [200/938], Loss: 0.4131\n",
            "Epoch [5/5], Step [300/938], Loss: 0.4357\n",
            "Epoch [5/5], Step [400/938], Loss: 0.4206\n",
            "Epoch [5/5], Step [500/938], Loss: 0.4429\n",
            "Epoch [5/5], Step [600/938], Loss: 0.4428\n",
            "Epoch [5/5], Step [700/938], Loss: 0.4419\n",
            "Epoch [5/5], Step [800/938], Loss: 0.4319\n",
            "Epoch [5/5], Step [900/938], Loss: 0.4334\n"
          ]
        }
      ]
    },
    {
      "cell_type": "markdown",
      "source": [
        "###Step 4: Evaluate the trained model on the test dataset.\n",
        "\n"
      ],
      "metadata": {
        "id": "CvrbQHw7UQ2J"
      }
    },
    {
      "cell_type": "code",
      "source": [
        "def test(model, test_loader):\n",
        "    model.eval()\n",
        "    correct = 0\n",
        "    total = 0\n",
        "    with torch.no_grad():\n",
        "        for images, labels in test_loader:\n",
        "            outputs = model(images)\n",
        "            _, predicted = torch.max(outputs.data, 1)\n",
        "            total += labels.size(0)\n",
        "            correct += (predicted == labels).sum().item()\n",
        "\n",
        "    print('Accuracy on the test set: {:.2f}%'.format(100 * correct / total))\n",
        "\n",
        "test(model, test_loader)"
      ],
      "metadata": {
        "colab": {
          "base_uri": "https://localhost:8080/"
        },
        "id": "K3aghLzFUSW4",
        "outputId": "da2fc922-ad94-4d17-9db7-165fa222e5bd"
      },
      "execution_count": 9,
      "outputs": [
        {
          "output_type": "stream",
          "name": "stdout",
          "text": [
            "Accuracy on the test set: 70.47%\n"
          ]
        }
      ]
    },
    {
      "cell_type": "code",
      "source": [
        "# Set the model to evaluation mode\n",
        "model.eval()\n",
        "\n",
        "# Iterate through the test dataset and calculate the probabilities\n",
        "with torch.no_grad():\n",
        "    for images, labels in test_loader:\n",
        "        outputs = model(images)\n",
        "        _, predicted = torch.max(outputs.data, dim=1)\n",
        "        probabilities = nn.functional.softmax(outputs.data, dim=1)\n",
        "        predicted_prob, predicted_label = torch.max(probabilities, dim=1)\n",
        "\n",
        "        # Print the predicted probability and label\n",
        "        print('Predicted Probability:', predicted_prob)\n",
        "        print('Predicted Label:', predicted_label)\n",
        "        print('Labels:', labels)\n",
        "        break  # Stop after the first iteration"
      ],
      "metadata": {
        "colab": {
          "base_uri": "https://localhost:8080/"
        },
        "id": "JMRVfKGlUYuv",
        "outputId": "f71b2993-636c-4c36-a58e-c736d7519f18"
      },
      "execution_count": 10,
      "outputs": [
        {
          "output_type": "stream",
          "name": "stdout",
          "text": [
            "Predicted Probability: tensor([0.9952, 0.9978, 1.0000, 1.0000, 0.6859, 0.9998, 1.0000, 0.9728, 0.6319,\n",
            "        1.0000, 0.9999, 0.8133, 0.6174, 1.0000, 1.0000, 0.9997, 0.9845, 0.9859,\n",
            "        0.8168, 0.9999, 0.8571, 0.9974, 1.0000, 0.9992, 1.0000, 0.9223, 0.9729,\n",
            "        0.9965, 0.9957, 0.7693, 0.5452, 0.9873, 1.0000, 1.0000, 0.9997, 0.9871,\n",
            "        1.0000, 0.9888, 1.0000, 0.9591, 0.8453, 1.0000, 0.8201, 1.0000, 0.9385,\n",
            "        0.9991, 0.9890, 0.9986, 0.9506, 0.6932, 0.9969, 0.9181, 0.8176, 0.9967,\n",
            "        0.9013, 0.9998, 0.8927, 0.9963, 0.5443, 0.9976, 1.0000, 1.0000, 0.9762,\n",
            "        0.9985])\n",
            "Predicted Label: tensor([7, 2, 1, 1, 4, 1, 4, 4, 7, 7, 4, 5, 5, 3, 4, 1, 2, 4, 5, 0, 2, 7, 7, 7,\n",
            "        1, 4, 4, 3, 7, 4, 8, 3, 3, 3, 5, 0, 7, 5, 7, 9, 0, 1, 4, 7, 4, 7, 2, 1,\n",
            "        4, 6, 4, 4, 7, 6, 4, 2, 8, 4, 7, 0, 7, 7, 7, 5])\n",
            "Labels: tensor([9, 2, 1, 1, 6, 1, 4, 6, 5, 7, 4, 5, 7, 3, 4, 1, 2, 4, 8, 0, 2, 5, 7, 9,\n",
            "        1, 4, 6, 0, 9, 3, 8, 8, 3, 3, 8, 0, 7, 5, 7, 9, 6, 1, 3, 7, 6, 7, 2, 1,\n",
            "        2, 2, 4, 4, 5, 8, 2, 2, 8, 4, 8, 0, 7, 7, 8, 5])\n"
          ]
        }
      ]
    },
    {
      "cell_type": "markdown",
      "source": [
        "NOTE: Softmax is a classification algorithm where the classification label is accompanied by a probability."
      ],
      "metadata": {
        "id": "7Ma5LqM7YnZo"
      }
    },
    {
      "cell_type": "markdown",
      "source": [
        "In this case, for each classification there are 10 probabilities and the highest probability is retained."
      ],
      "metadata": {
        "id": "mwNdEhZ2dDvC"
      }
    },
    {
      "cell_type": "code",
      "source": [
        "import matplotlib.pyplot as plt\n",
        "import numpy as np\n",
        "\n",
        "plt.figure(figsize=(10,10))\n",
        "\n",
        "model.eval()  # Set the model to evaluation mode\n",
        "\n",
        "with torch.no_grad():\n",
        "    for images, labels in test_loader:\n",
        "        outputs = model(images)\n",
        "        _, predicted = torch.max(outputs.data, dim=1)\n",
        "        probabilities = nn.functional.softmax(outputs.data, dim=1)\n",
        "        predicted_prob, predicted_label = torch.max(probabilities, dim=1)\n",
        "\n",
        "        # Print the predicted probability and label\n",
        "        print('Predicted Probability:', predicted_prob)\n",
        "        print('Predicted Label:', predicted_label)\n",
        "        print('Labels:', labels)\n",
        "\n",
        "\n",
        "        break  # Stop after the first iteration\n"
      ],
      "metadata": {
        "colab": {
          "base_uri": "https://localhost:8080/",
          "height": 277
        },
        "id": "6EGDjePosFHY",
        "outputId": "f7c3e6ab-2649-4957-abd4-8270742ed4c4"
      },
      "execution_count": 30,
      "outputs": [
        {
          "output_type": "stream",
          "name": "stdout",
          "text": [
            "Predicted Probability: tensor([0.9952, 0.9978, 1.0000, 1.0000, 0.6859, 0.9998, 1.0000, 0.9728, 0.6319,\n",
            "        1.0000, 0.9999, 0.8133, 0.6174, 1.0000, 1.0000, 0.9997, 0.9845, 0.9859,\n",
            "        0.8168, 0.9999, 0.8571, 0.9974, 1.0000, 0.9992, 1.0000, 0.9223, 0.9729,\n",
            "        0.9965, 0.9957, 0.7693, 0.5452, 0.9873, 1.0000, 1.0000, 0.9997, 0.9871,\n",
            "        1.0000, 0.9888, 1.0000, 0.9591, 0.8453, 1.0000, 0.8201, 1.0000, 0.9385,\n",
            "        0.9991, 0.9890, 0.9986, 0.9506, 0.6932, 0.9969, 0.9181, 0.8176, 0.9967,\n",
            "        0.9013, 0.9998, 0.8927, 0.9963, 0.5443, 0.9976, 1.0000, 1.0000, 0.9762,\n",
            "        0.9985])\n",
            "Predicted Label: tensor([7, 2, 1, 1, 4, 1, 4, 4, 7, 7, 4, 5, 5, 3, 4, 1, 2, 4, 5, 0, 2, 7, 7, 7,\n",
            "        1, 4, 4, 3, 7, 4, 8, 3, 3, 3, 5, 0, 7, 5, 7, 9, 0, 1, 4, 7, 4, 7, 2, 1,\n",
            "        4, 6, 4, 4, 7, 6, 4, 2, 8, 4, 7, 0, 7, 7, 7, 5])\n",
            "Labels: tensor([9, 2, 1, 1, 6, 1, 4, 6, 5, 7, 4, 5, 7, 3, 4, 1, 2, 4, 8, 0, 2, 5, 7, 9,\n",
            "        1, 4, 6, 0, 9, 3, 8, 8, 3, 3, 8, 0, 7, 5, 7, 9, 6, 1, 3, 7, 6, 7, 2, 1,\n",
            "        2, 2, 4, 4, 5, 8, 2, 2, 8, 4, 8, 0, 7, 7, 8, 5])\n"
          ]
        },
        {
          "output_type": "display_data",
          "data": {
            "text/plain": [
              "<Figure size 1000x1000 with 0 Axes>"
            ]
          },
          "metadata": {}
        }
      ]
    },
    {
      "cell_type": "code",
      "source": [
        "image, label = test_dataset[0]\n",
        "plt.imshow(image.squeeze(), cmap='gray')\n",
        "plt.title(class_labels[label])\n",
        "plt.axis('off')\n",
        "plt.show()"
      ],
      "metadata": {
        "colab": {
          "base_uri": "https://localhost:8080/",
          "height": 428
        },
        "id": "6heYnJvhUv5A",
        "outputId": "e9560090-ceea-4885-df77-4918ca6688f8"
      },
      "execution_count": 11,
      "outputs": [
        {
          "output_type": "display_data",
          "data": {
            "text/plain": [
              "<Figure size 640x480 with 1 Axes>"
            ],
            "image/png": "[encoded data removed]"
          },
          "metadata": {}
        }
      ]
    },
    {
      "cell_type": "code",
      "source": [
        "import matplotlib.pyplot as plt\n",
        "\n",
        "# Get multiple predictions\n",
        "num_predictions = 10  # Number of predictions you want to print\n",
        "rows = 2  # Number of rows in the subplot grid\n",
        "cols = 5  # Number of columns in the subplot grid\n",
        "\n",
        "# Create subplots to display predictions in a grid\n",
        "fig, axes = plt.subplots(rows, cols, figsize=(15, 6))\n",
        "\n",
        "for i in range(num_predictions):\n",
        "    image, label = test_dataset[i]\n",
        "    row = i // cols  # Calculate the row index\n",
        "    col = i % cols  # Calculate the column index\n",
        "\n",
        "    axes[row, col].imshow(image.squeeze(), cmap='gray')\n",
        "    axes[row, col].axis('off')\n",
        "\n",
        "    # Make the prediction\n",
        "    with torch.no_grad():\n",
        "        output = model(image.unsqueeze(0))\n",
        "        probabilities = nn.functional.softmax(output, dim=1)\n",
        "        predicted_prob, predicted_label = torch.max(probabilities, dim=1)\n",
        "\n",
        "    # Show the real label and the prediction with its probability\n",
        "    real_label = class_labels[label]\n",
        "    prediction_name = class_labels[predicted_label.item()]\n",
        "    prediction_prob = predicted_prob.item() * 100\n",
        "\n",
        "    axes[row, col].set_title(f'Real: {real_label}\\nPrediction: {prediction_name}\\nProbability: {prediction_prob:.2f}%')\n",
        "\n",
        "plt.tight_layout()\n",
        "plt.show()\n"
      ],
      "metadata": {
        "colab": {
          "base_uri": "https://localhost:8080/",
          "height": 534
        },
        "id": "SQI6Q82fw9bI",
        "outputId": "6453d803-bc3b-46ab-d52c-ed61c318f4eb"
      },
      "execution_count": 36,
      "outputs": [
        {
          "output_type": "display_data",
          "data": {
            "text/plain": [
              "<Figure size 1500x600 with 10 Axes>"
            ],
            "image/png": "[encoded data removed]"
          },
          "metadata": {}
        }
      ]
    }
  ]
}